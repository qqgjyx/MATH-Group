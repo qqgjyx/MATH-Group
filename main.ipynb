{
 "cells": [
  {
   "cell_type": "code",
   "execution_count": 7,
   "id": "initial_id",
   "metadata": {
    "collapsed": true,
    "ExecuteTime": {
     "end_time": "2024-02-22T09:44:52.305469Z",
     "start_time": "2024-02-22T09:44:52.282819Z"
    }
   },
   "outputs": [
    {
     "ename": "OSError",
     "evalue": "Missing commit info file /Users/juntangwang/Documents/GitHub/MATH-Group/.venv/lib/python3.9/site-packages/dipy/COMMIT_INFO.txt",
     "output_type": "error",
     "traceback": [
      "\u001B[0;31m---------------------------------------------------------------------------\u001B[0m",
      "\u001B[0;31mOSError\u001B[0m                                   Traceback (most recent call last)",
      "Cell \u001B[0;32mIn[7], line 2\u001B[0m\n\u001B[1;32m      1\u001B[0m \u001B[38;5;28;01mimport\u001B[39;00m \u001B[38;5;21;01mdipy\u001B[39;00m\n\u001B[0;32m----> 2\u001B[0m \u001B[38;5;28mprint\u001B[39m(\u001B[43mdipy\u001B[49m\u001B[38;5;241;43m.\u001B[39;49m\u001B[43mget_info\u001B[49m\u001B[43m(\u001B[49m\u001B[43m)\u001B[49m)\n",
      "File \u001B[0;32m~/Documents/GitHub/MATH-Group/.venv/lib/python3.9/site-packages/dipy/__init__.py:49\u001B[0m, in \u001B[0;36mget_info\u001B[0;34m()\u001B[0m\n\u001B[1;32m     47\u001B[0m \u001B[38;5;28;01mdef\u001B[39;00m \u001B[38;5;21mget_info\u001B[39m():\n\u001B[1;32m     48\u001B[0m     \u001B[38;5;28;01mfrom\u001B[39;00m \u001B[38;5;21;01mos\u001B[39;00m\u001B[38;5;21;01m.\u001B[39;00m\u001B[38;5;21;01mpath\u001B[39;00m \u001B[38;5;28;01mimport\u001B[39;00m dirname\n\u001B[0;32m---> 49\u001B[0m     \u001B[38;5;28;01mreturn\u001B[39;00m \u001B[43m_get_pkg_info\u001B[49m\u001B[43m(\u001B[49m\u001B[43mdirname\u001B[49m\u001B[43m(\u001B[49m\u001B[38;5;18;43m__file__\u001B[39;49m\u001B[43m)\u001B[49m\u001B[43m)\u001B[49m\n",
      "File \u001B[0;32m~/Documents/GitHub/MATH-Group/.venv/lib/python3.9/site-packages/dipy/pkg_info.py:77\u001B[0m, in \u001B[0;36mget_pkg_info\u001B[0;34m(pkg_path)\u001B[0m\n\u001B[1;32m     64\u001B[0m \u001B[38;5;28;01mdef\u001B[39;00m \u001B[38;5;21mget_pkg_info\u001B[39m(pkg_path):\n\u001B[1;32m     65\u001B[0m \u001B[38;5;250m    \u001B[39m\u001B[38;5;124;03m\"\"\" Return dict describing the context of this package\u001B[39;00m\n\u001B[1;32m     66\u001B[0m \n\u001B[1;32m     67\u001B[0m \u001B[38;5;124;03m    Parameters\u001B[39;00m\n\u001B[0;32m   (...)\u001B[0m\n\u001B[1;32m     75\u001B[0m \u001B[38;5;124;03m       with named parameters of interest\u001B[39;00m\n\u001B[1;32m     76\u001B[0m \u001B[38;5;124;03m    \"\"\"\u001B[39;00m\n\u001B[0;32m---> 77\u001B[0m     src, hsh \u001B[38;5;241m=\u001B[39m \u001B[43mpkg_commit_hash\u001B[49m\u001B[43m(\u001B[49m\u001B[43mpkg_path\u001B[49m\u001B[43m)\u001B[49m\n\u001B[1;32m     78\u001B[0m     \u001B[38;5;28;01mimport\u001B[39;00m \u001B[38;5;21;01mnumpy\u001B[39;00m\n\u001B[1;32m     79\u001B[0m     \u001B[38;5;28;01mimport\u001B[39;00m \u001B[38;5;21;01mdipy\u001B[39;00m\n",
      "File \u001B[0;32m~/Documents/GitHub/MATH-Group/.venv/lib/python3.9/site-packages/dipy/pkg_info.py:44\u001B[0m, in \u001B[0;36mpkg_commit_hash\u001B[0;34m(pkg_path)\u001B[0m\n\u001B[1;32m     42\u001B[0m pth \u001B[38;5;241m=\u001B[39m os\u001B[38;5;241m.\u001B[39mpath\u001B[38;5;241m.\u001B[39mjoin(pkg_path, COMMIT_INFO_FNAME)\n\u001B[1;32m     43\u001B[0m \u001B[38;5;28;01mif\u001B[39;00m \u001B[38;5;129;01mnot\u001B[39;00m os\u001B[38;5;241m.\u001B[39mpath\u001B[38;5;241m.\u001B[39misfile(pth):\n\u001B[0;32m---> 44\u001B[0m     \u001B[38;5;28;01mraise\u001B[39;00m \u001B[38;5;167;01mOSError\u001B[39;00m(\u001B[38;5;124m'\u001B[39m\u001B[38;5;124mMissing commit info file \u001B[39m\u001B[38;5;132;01m%s\u001B[39;00m\u001B[38;5;124m'\u001B[39m \u001B[38;5;241m%\u001B[39m pth)\n\u001B[1;32m     45\u001B[0m cfg_parser \u001B[38;5;241m=\u001B[39m configparser\u001B[38;5;241m.\u001B[39mRawConfigParser()\n\u001B[1;32m     46\u001B[0m cfg_parser\u001B[38;5;241m.\u001B[39mread(pth)\n",
      "\u001B[0;31mOSError\u001B[0m: Missing commit info file /Users/juntangwang/Documents/GitHub/MATH-Group/.venv/lib/python3.9/site-packages/dipy/COMMIT_INFO.txt"
     ]
    }
   ],
   "source": [
    "import dipy\n",
    "print(dipy.get_info())"
   ]
  },
  {
   "cell_type": "code",
   "outputs": [],
   "source": [],
   "metadata": {
    "collapsed": false,
    "ExecuteTime": {
     "end_time": "2024-02-22T09:44:09.210415Z",
     "start_time": "2024-02-22T09:44:09.205763Z"
    }
   },
   "id": "4ac7d7c82873c5ef",
   "execution_count": 3
  },
  {
   "cell_type": "code",
   "outputs": [],
   "source": [],
   "metadata": {
    "collapsed": false,
    "ExecuteTime": {
     "end_time": "2024-02-22T09:43:02.065464Z",
     "start_time": "2024-02-22T09:43:02.064156Z"
    }
   },
   "id": "7ed01301a197ec6c",
   "execution_count": 2
  },
  {
   "cell_type": "code",
   "outputs": [],
   "source": [],
   "metadata": {
    "collapsed": false
   },
   "id": "8bdf567d3401c8e0"
  }
 ],
 "metadata": {
  "kernelspec": {
   "display_name": "Python 3",
   "language": "python",
   "name": "python3"
  },
  "language_info": {
   "codemirror_mode": {
    "name": "ipython",
    "version": 2
   },
   "file_extension": ".py",
   "mimetype": "text/x-python",
   "name": "python",
   "nbconvert_exporter": "python",
   "pygments_lexer": "ipython2",
   "version": "2.7.6"
  }
 },
 "nbformat": 4,
 "nbformat_minor": 5
}
