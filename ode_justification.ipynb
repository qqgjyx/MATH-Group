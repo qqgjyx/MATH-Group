{
 "cells": [
  {
   "cell_type": "code",
   "id": "initial_id",
   "metadata": {
    "collapsed": true,
    "ExecuteTime": {
     "end_time": "2024-06-03T14:33:41.878128Z",
     "start_time": "2024-06-03T14:33:41.876115Z"
    }
   },
   "source": [
    ""
   ],
   "outputs": [],
   "execution_count": 1
  },
  {
   "metadata": {
    "ExecuteTime": {
     "end_time": "2024-06-03T14:33:42.266503Z",
     "start_time": "2024-06-03T14:33:41.879529Z"
    }
   },
   "cell_type": "code",
   "source": [
    "import numpy as np\n",
    "import matplotlib.pyplot as plt\n",
    "from scipy.special import gamma\n",
    "from scipy.integrate import simps\n",
    "import ipywidgets as widgets\n",
    "from ipywidgets import interact\n",
    "\n",
    "# Define Lorentzian function\n",
    "def L(t, t0, A, Gamma):\n",
    "    return (A/np.pi) * (Gamma / ((t - t0)**2 + Gamma**2))\n",
    "\n",
    "# Define Ca and Cv as Lorentzian functions\n",
    "def Ca(t):\n",
    "    return L(t, 30, 5000, 4)\n",
    "\n",
    "def Cv(t):\n",
    "    return L(t, 36, 8000, 2.7)\n",
    "\n",
    "# Precompute κ using Simpson's rule\n",
    "time_grid_fine = np.linspace(0, 72, 1000)\n",
    "integral_Ca = simps(Ca(time_grid_fine), time_grid_fine)\n",
    "integral_Cv = simps(Cv(time_grid_fine), time_grid_fine)\n",
    "kappa = integral_Ca / integral_Cv\n",
    "\n",
    "# Define gamma distribution as the residue function R(t)\n",
    "def gamma_dist(t, t1, k, theta):\n",
    "    if t >= t1:\n",
    "        return (1 / (gamma(k) * theta**k)) * (t - t1)**(k - 1) * np.exp(-(t - t1) / theta)\n",
    "    else:\n",
    "        return 0\n",
    "\n",
    "# Precompute the time grid\n",
    "time_grid = np.arange(0, 73, 1)\n",
    "\n",
    "# Memoize CinValues to avoid recomputation\n",
    "CinValuesCache = {t: (1/kappa) * ((1 - 0.45)/(1 - 0.35)) * simps([Ca(tau) * gamma_dist(t - tau, 4, 1, 2) for tau in time_grid_fine if tau <= t], time_grid_fine[time_grid_fine <= t]) for t in time_grid}\n",
    "\n",
    "# Create an interpolation function for Cin\n",
    "CinInterp = np.interp(time_grid, list(CinValuesCache.keys()), list(CinValuesCache.values()))\n",
    "\n",
    "# Memoize CtValues to avoid recomputation\n",
    "def CtValue(t, CinInterp):\n",
    "    def integrand(k1):\n",
    "        return (np.exp((20 * k1) / 96.15) * 20 * np.interp(k1, time_grid, CinInterp)) / 96.15\n",
    "    \n",
    "    return np.exp(-(20 * t) / 96.15) * simps([integrand(k1) for k1 in time_grid_fine if k1 <= t], time_grid_fine[time_grid_fine <= t])\n",
    "\n",
    "CtValuesCache = {t: CtValue(t, CinInterp) for t in time_grid}\n",
    "\n",
    "# Create an interpolation function for Ct\n",
    "CtInterp = np.interp(time_grid, list(CtValuesCache.keys()), list(CtValuesCache.values()))\n",
    "\n",
    "# Function to update and plot\n",
    "def update_plot(t1, k1, sigma1, Q, V, HLV, HSV):\n",
    "    def R(t):\n",
    "        return gamma_dist(t, t1, k1, sigma1)\n",
    "    \n",
    "    CinValues = [(1/kappa) * ((1 - HLV) / (1 - HSV)) * simps([Ca(tau) * R(t - tau) for tau in time_grid_fine if tau <= t], time_grid_fine[time_grid_fine <= t]) for t in time_grid]\n",
    "    CinInterp = np.interp(time_grid, time_grid, CinValues)\n",
    "    CtValues = [np.exp(-(Q * t) / V) * simps([(np.exp((Q * k1) / V) * Q * np.interp(k1, time_grid, CinInterp)) / V for k1 in time_grid_fine if k1 <= t], time_grid_fine[time_grid_fine <= t]) for t in time_grid]\n",
    "    CtInterp = np.interp(time_grid, time_grid, CtValues)\n",
    "    \n",
    "    plt.figure(figsize=(12, 8))\n",
    "    plt.plot(time_grid, [Ca(t) for t in time_grid], label='AIF (Ca)', color='red', linewidth=2)\n",
    "    plt.plot(time_grid, [Cv(t) for t in time_grid], label='VOF (Cv)', color='blue', linewidth=2)\n",
    "    plt.plot(time_grid, CtInterp, label='Tissue (Ct)', color='green', linewidth=2)\n",
    "    plt.plot(time_grid, CinInterp, label='Cin', color='pink', linewidth=2)\n",
    "    plt.xlabel('Time (s)')\n",
    "    plt.ylabel('Concentration')\n",
    "    plt.title('AIF, VOF, Tissue Concentration, and Convolved AIF')\n",
    "    plt.legend()\n",
    "    plt.grid(True)\n",
    "    plt.show()\n",
    "\n",
    "# Create interactive widgets\n",
    "interact(update_plot,\n",
    "         t1=widgets.FloatSlider(min=1, max=10, step=0.1, value=4, description='t1'),\n",
    "         k1=widgets.FloatSlider(min=0.1, max=10, step=0.1, value=1, description='k1'),\n",
    "         sigma1=widgets.FloatSlider(min=0.1, max=10, step=0.1, value=2, description='sigma1'),\n",
    "         Q=widgets.FloatSlider(min=1, max=50, step=1, value=20, description='Q (cm^3/s/100g)'),\n",
    "         V=widgets.FloatSlider(min=50, max=150, step=1, value=96.15, description='V (cm^3/100g)'),\n",
    "         HLV=widgets.FloatSlider(min=0.1, max=1, step=0.01, value=0.45, description='HLV'),\n",
    "         HSV=widgets.FloatSlider(min=0.1, max=1, step=0.01, value=0.35, description='HSV'))"
   ],
   "id": "7c87a6ae82c4c6c5",
   "outputs": [
    {
     "name": "stderr",
     "output_type": "stream",
     "text": [
      "/var/folders/px/b3fg564n72s8jrpcc0p_6fmc0000gn/T/ipykernel_59084/678205900.py:21: DeprecationWarning: 'scipy.integrate.simps' is deprecated in favour of 'scipy.integrate.simpson' and will be removed in SciPy 1.14.0\n",
      "  integral_Ca = simps(Ca(time_grid_fine), time_grid_fine)\n",
      "/var/folders/px/b3fg564n72s8jrpcc0p_6fmc0000gn/T/ipykernel_59084/678205900.py:22: DeprecationWarning: 'scipy.integrate.simps' is deprecated in favour of 'scipy.integrate.simpson' and will be removed in SciPy 1.14.0\n",
      "  integral_Cv = simps(Cv(time_grid_fine), time_grid_fine)\n",
      "/var/folders/px/b3fg564n72s8jrpcc0p_6fmc0000gn/T/ipykernel_59084/678205900.py:36: DeprecationWarning: 'scipy.integrate.simps' is deprecated in favour of 'scipy.integrate.simpson' and will be removed in SciPy 1.14.0\n",
      "  CinValuesCache = {t: (1/kappa) * ((1 - 0.45)/(1 - 0.35)) * simps([Ca(tau) * gamma_dist(t - tau, 4, 1, 2) for tau in time_grid_fine if tau <= t], time_grid_fine[time_grid_fine <= t]) for t in time_grid}\n",
      "/var/folders/px/b3fg564n72s8jrpcc0p_6fmc0000gn/T/ipykernel_59084/678205900.py:46: DeprecationWarning: 'scipy.integrate.simps' is deprecated in favour of 'scipy.integrate.simpson' and will be removed in SciPy 1.14.0\n",
      "  return np.exp(-(20 * t) / 96.15) * simps([integrand(k1) for k1 in time_grid_fine if k1 <= t], time_grid_fine[time_grid_fine <= t])\n"
     ]
    },
    {
     "data": {
      "text/plain": [
       "interactive(children=(FloatSlider(value=4.0, description='t1', max=10.0, min=1.0), FloatSlider(value=1.0, desc…"
      ],
      "application/vnd.jupyter.widget-view+json": {
       "version_major": 2,
       "version_minor": 0,
       "model_id": "dbeb1025ad4744a0b15e78990f08382a"
      }
     },
     "metadata": {},
     "output_type": "display_data"
    },
    {
     "data": {
      "text/plain": [
       "<function __main__.update_plot(t1, k1, sigma1, Q, V, HLV, HSV)>"
      ]
     },
     "execution_count": 2,
     "metadata": {},
     "output_type": "execute_result"
    }
   ],
   "execution_count": 2
  },
  {
   "metadata": {
    "ExecuteTime": {
     "end_time": "2024-06-03T14:33:43.215702Z",
     "start_time": "2024-06-03T14:33:42.267738Z"
    }
   },
   "cell_type": "code",
   "source": [
    "import numpy as np\n",
    "import matplotlib.pyplot as plt\n",
    "from scipy.special import gamma\n",
    "from scipy.integrate import quad\n",
    "import ipywidgets as widgets\n",
    "from ipywidgets import interact\n",
    "from scipy.integrate import trapezoid\n",
    "\n",
    "# Define Lorentzian function\n",
    "def L(t, t0, A, Gamma):\n",
    "    return (A / np.pi) * (Gamma / ((t - t0)**2 + Gamma**2))\n",
    "\n",
    "# Define Ca and Cv as Lorentzian functions\n",
    "def Ca(t):\n",
    "    return L(t, 30, 5000, 4)\n",
    "\n",
    "def Cv(t):\n",
    "    return L(t, 36, 8000, 2.7)\n",
    "\n",
    "# Precompute κ using quad\n",
    "time_grid_fine = np.linspace(0, 72, 10)\n",
    "integral_Ca, _ = quad(Ca, 0, 72)\n",
    "integral_Cv, _ = quad(Cv, 0, 72)\n",
    "kappa = integral_Ca / integral_Cv\n",
    "\n",
    "# Define gamma distribution as the residue function R(t)\n",
    "def gamma_dist(t, t1, k, theta):\n",
    "    if t >= t1:\n",
    "        return (1 / (gamma(k) * theta**k)) * (t - t1)**(k - 1) * np.exp(-(t - t1) / theta)\n",
    "    else:\n",
    "        return 0\n",
    "\n",
    "# Precompute the time grid\n",
    "time_grid = np.arange(0, 73, 1)\n",
    "\n",
    "# Memoize CinValues to avoid recomputation\n",
    "def Cin(t, t1, k, theta, HLV, HSV):\n",
    "    def integrand(tau):\n",
    "        return Ca(tau) * gamma_dist(t - tau, t1, k, theta)\n",
    "    integral_value, _ = quad(integrand, 0, t)\n",
    "    return (1 / kappa) * ((1 - HLV) / (1 - HSV)) * integral_value\n",
    "\n",
    "CinValuesCache = {t: Cin(t, 4, 1, 2, 0.45, 0.35) for t in time_grid}\n",
    "CinInterp = np.interp(time_grid, list(CinValuesCache.keys()), list(CinValuesCache.values()))\n",
    "\n",
    "Q=20\n",
    "V=96.15\n",
    "def Ct(t, Cin):\n",
    "    return np.exp(-(Q * t) / V) * (trapezoid([np.exp(Q * tao / V) * (Q / V) * Cin(tao) for tao in list(np.arange(0, t, 1))], list(np.arange(0, t, 1))))\n",
    "\n",
    "CaInterp = np.interp(time_grid, time_grid, [Ca(t) for t in time_grid])\n",
    "CValues = [np.exp(-(Q * t) / V) * quad(lambda k1: (np.exp((Q * k1) / V) * Q * np.interp(k1, time_grid, CaInterp)) / V, 0, t)[0] for t in time_grid]\n",
    "Cinterp = np.interp(time_grid, time_grid, CValues)\n",
    "\n",
    "# Memoize CtValues to avoid recomputation\n",
    "def CtValue(t, CinInterp, Q, V):\n",
    "    def integrand(k1):\n",
    "        return (np.exp((Q * k1) / V) * Q * np.interp(k1, time_grid, CinInterp)) / V\n",
    "    integral_value, _ = quad(integrand, 0, t)\n",
    "    return np.exp(-(Q * t) / V) * integral_value\n",
    "\n",
    "CtValuesCache = {t: CtValue(t, CinInterp, 20, 96.15) for t in time_grid}\n",
    "CtInterp = np.interp(time_grid, list(CtValuesCache.keys()), list(CtValuesCache.values()))\n",
    "\n",
    "# Function to update and plot\n",
    "def update_plot(t1, k1, sigma1, Q, V, HLV, HSV):\n",
    "    def R(t):\n",
    "        return gamma_dist(t, t1, k1, sigma1)\n",
    "    \n",
    "    # CinValues = [(1 / kappa) * ((1 - HLV) / (1 - HSV)) * quad(lambda tau: Ca(tau) * R(t - tau), 0, t)[0] for t in time_grid]\n",
    "    CinValues = [quad(lambda tau: Ca(tau) * R(t - tau), 0, t)[0] for t in time_grid]\n",
    "    CinInterp = np.interp(time_grid, time_grid, CinValues)\n",
    "    CtValues = [np.exp(-(Q * t) / V) * quad(lambda k1: (np.exp((Q * k1) / V) * Q * np.interp(k1, time_grid, CinInterp)) / V, 0, t)[0] for t in time_grid]\n",
    "    CtInterp = np.interp(time_grid, time_grid, CtValues)\n",
    "    \n",
    "    plt.figure(figsize=(12, 8))\n",
    "    plt.plot(time_grid, [Ca(t) for t in time_grid], label='Input', color='red', linewidth=2)\n",
    "    # plt.plot(time_grid, [Cv(t) for t in time_grid], label='VOF (Cv)', color='blue', linewidth=2)\n",
    "    # plt.plot(time_grid, CtInterp, label='Tissue (Ct)', color='green', linewidth=2)\n",
    "    plt.plot(time_grid, CinInterp, label='Convolution', color='pink', linewidth=2, linestyle='--')\n",
    "    plt.plot(time_grid, Cinterp, label='ODE Equation 1', color='green', linewidth=2, linestyle=':')\n",
    "    plt.xlabel('Time (s)')\n",
    "    plt.ylabel('Concentration')\n",
    "    plt.title('Connection between Convolution and ODE')\n",
    "    plt.legend()\n",
    "    plt.grid(True)\n",
    "    plt.show()\n",
    "\n",
    "# Create interactive widgets\n",
    "interact(update_plot,\n",
    "         t1=widgets.FloatSlider(min=0, max=10, step=0.1, value=4, description='t1'),\n",
    "         k1=widgets.FloatSlider(min=0, max=10, step=0.1, value=1, description='k1'),\n",
    "         sigma1=widgets.FloatSlider(min=0.1, max=10, step=0.1, value=2, description='sigma1'),\n",
    "         Q=widgets.FloatSlider(min=1, max=50, step=1, value=20, description='Q (cm^3/s/100g)'),\n",
    "         V=widgets.FloatSlider(min=50, max=150, step=1, value=96.15, description='V (cm^3/100g)'),\n",
    "         HLV=widgets.FloatSlider(min=0.1, max=1, step=0.01, value=0.45, description='HLV'),\n",
    "         HSV=widgets.FloatSlider(min=0.1, max=1, step=0.01, value=0.35, description='HSV'))"
   ],
   "id": "2f6f4d4d90c58f27",
   "outputs": [
    {
     "name": "stderr",
     "output_type": "stream",
     "text": [
      "/var/folders/px/b3fg564n72s8jrpcc0p_6fmc0000gn/T/ipykernel_59084/3992237730.py:52: IntegrationWarning: The occurrence of roundoff error is detected, which prevents \n",
      "  the requested tolerance from being achieved.  The error may be \n",
      "  underestimated.\n",
      "  CValues = [np.exp(-(Q * t) / V) * quad(lambda k1: (np.exp((Q * k1) / V) * Q * np.interp(k1, time_grid, CaInterp)) / V, 0, t)[0] for t in time_grid]\n",
      "/var/folders/px/b3fg564n72s8jrpcc0p_6fmc0000gn/T/ipykernel_59084/3992237730.py:52: IntegrationWarning: The maximum number of subdivisions (50) has been achieved.\n",
      "  If increasing the limit yields no improvement it is advised to analyze \n",
      "  the integrand in order to determine the difficulties.  If the position of a \n",
      "  local difficulty can be determined (singularity, discontinuity) one will \n",
      "  probably gain from splitting up the interval and calling the integrator \n",
      "  on the subranges.  Perhaps a special-purpose integrator should be used.\n",
      "  CValues = [np.exp(-(Q * t) / V) * quad(lambda k1: (np.exp((Q * k1) / V) * Q * np.interp(k1, time_grid, CaInterp)) / V, 0, t)[0] for t in time_grid]\n",
      "/var/folders/px/b3fg564n72s8jrpcc0p_6fmc0000gn/T/ipykernel_59084/3992237730.py:59: IntegrationWarning: The occurrence of roundoff error is detected, which prevents \n",
      "  the requested tolerance from being achieved.  The error may be \n",
      "  underestimated.\n",
      "  integral_value, _ = quad(integrand, 0, t)\n",
      "/var/folders/px/b3fg564n72s8jrpcc0p_6fmc0000gn/T/ipykernel_59084/3992237730.py:59: IntegrationWarning: The maximum number of subdivisions (50) has been achieved.\n",
      "  If increasing the limit yields no improvement it is advised to analyze \n",
      "  the integrand in order to determine the difficulties.  If the position of a \n",
      "  local difficulty can be determined (singularity, discontinuity) one will \n",
      "  probably gain from splitting up the interval and calling the integrator \n",
      "  on the subranges.  Perhaps a special-purpose integrator should be used.\n",
      "  integral_value, _ = quad(integrand, 0, t)\n"
     ]
    },
    {
     "data": {
      "text/plain": [
       "interactive(children=(FloatSlider(value=4.0, description='t1', max=10.0), FloatSlider(value=1.0, description='…"
      ],
      "application/vnd.jupyter.widget-view+json": {
       "version_major": 2,
       "version_minor": 0,
       "model_id": "ed38971784184406ac4e6f68e7486dc2"
      }
     },
     "metadata": {},
     "output_type": "display_data"
    },
    {
     "data": {
      "text/plain": [
       "<function __main__.update_plot(t1, k1, sigma1, Q, V, HLV, HSV)>"
      ]
     },
     "execution_count": 3,
     "metadata": {},
     "output_type": "execute_result"
    }
   ],
   "execution_count": 3
  },
  {
   "metadata": {
    "ExecuteTime": {
     "end_time": "2024-06-03T14:33:43.219697Z",
     "start_time": "2024-06-03T14:33:43.217597Z"
    }
   },
   "cell_type": "code",
   "source": "",
   "id": "89995e68eb8f6488",
   "outputs": [],
   "execution_count": 3
  },
  {
   "metadata": {
    "ExecuteTime": {
     "end_time": "2024-06-03T14:33:43.999100Z",
     "start_time": "2024-06-03T14:33:43.220608Z"
    }
   },
   "cell_type": "code",
   "source": [
    "import numpy as np\n",
    "import matplotlib.pyplot as plt\n",
    "from scipy.special import gamma\n",
    "from scipy.integrate import quad\n",
    "import ipywidgets as widgets\n",
    "from ipywidgets import interact\n",
    "from scipy.integrate import trapezoid\n",
    "\n",
    "# Define Lorentzian function\n",
    "def L(t, t0, A, Gamma):\n",
    "    return (A / np.pi) * (Gamma / ((t - t0)**2 + Gamma**2))\n",
    "\n",
    "# Define Ca and Cv as Lorentzian functions\n",
    "def Ca(t):\n",
    "    return L(t, 30, 5000, 4)\n",
    "\n",
    "def Cv(t):\n",
    "    return L(t, 36, 8000, 2.7)\n",
    "\n",
    "# Precompute κ using quad\n",
    "time_grid_fine = np.linspace(0, 72, 10)\n",
    "integral_Ca, _ = quad(Ca, 0, 72)\n",
    "integral_Cv, _ = quad(Cv, 0, 72)\n",
    "kappa = integral_Ca / integral_Cv\n",
    "\n",
    "# Define gamma distribution as the residue function R(t)\n",
    "def gamma_dist(t, t1, k, theta):\n",
    "    if t >= t1:\n",
    "        return (1 / (gamma(k) * theta**k)) * (t - t1)**(k - 1) * np.exp(-(t - t1) / theta)\n",
    "    else:\n",
    "        return 0\n",
    "\n",
    "# Precompute the time grid\n",
    "time_grid = np.arange(0, 73, 1)\n",
    "\n",
    "# Memoize CinValues to avoid recomputation\n",
    "def Cin(t, t1, k, theta, HLV, HSV):\n",
    "    def integrand(tau):\n",
    "        return Ca(tau) * gamma_dist(t - tau, t1, k, theta)\n",
    "    integral_value, _ = quad(integrand, 0, t)\n",
    "    return (1 / kappa) * ((1 - HLV) / (1 - HSV)) * integral_value\n",
    "\n",
    "CinValuesCache = {t: Cin(t, 4, 1, 2, 0.45, 0.35) for t in time_grid}\n",
    "CinInterp = np.interp(time_grid, list(CinValuesCache.keys()), list(CinValuesCache.values()))\n",
    "\n",
    "# Memoize CtValues to avoid recomputation\n",
    "def CtValue(t, CinInterp, Q, V):\n",
    "    def integrand(k1):\n",
    "        return (np.exp((Q * k1) / V) * Q * np.interp(k1, time_grid, CinInterp)) / V\n",
    "    integral_value, _ = quad(integrand, 0, t)\n",
    "    return np.exp(-(Q * t) / V) * integral_value\n",
    "\n",
    "CtValuesCache = {t: CtValue(t, CinInterp, 20, 96.15) for t in time_grid}\n",
    "CtInterp = np.interp(time_grid, list(CtValuesCache.keys()), list(CtValuesCache.values()))\n",
    "\n",
    "# Function to update and plot\n",
    "def update_plot(t1, k1, sigma1, Q, V, HLV, HSV):\n",
    "    def R(t):\n",
    "        return gamma_dist(t, t1, k1, sigma1)\n",
    "    \n",
    "    # CinValues = [(1 / kappa) * ((1 - HLV) / (1 - HSV)) * quad(lambda tau: Ca(tau) * R(t - tau), 0, t)[0] for t in time_grid]\n",
    "    CinValues = [quad(lambda tau: Ca(tau) * R(t - tau), 0, t)[0] for t in time_grid]\n",
    "    CinInterp = np.interp(time_grid, time_grid, CinValues)\n",
    "    CtValues = [np.exp(-(Q * t) / V) * quad(lambda k1: (np.exp((Q * k1) / V) * Q * np.interp(k1, time_grid, CinInterp)) / V, 0, t)[0] for t in time_grid]\n",
    "    CtInterp = np.interp(time_grid, time_grid, CtValues)\n",
    "    \n",
    "    plt.figure(figsize=(12, 8))\n",
    "    plt.plot(time_grid, [Ca(t) for t in time_grid], label='AIF (Ca)', color='red', linewidth=2)\n",
    "    plt.plot(time_grid, [Cv(t) for t in time_grid], label='VOF (Cv)', color='blue', linewidth=2)\n",
    "    plt.plot(time_grid, CtInterp, label='Tissue (Ct)', color='green', linewidth=2)\n",
    "    plt.plot(time_grid, CinInterp, label='Cin', color='pink', linewidth=2, linestyle='--')\n",
    "    plt.xlabel('Time (s)')\n",
    "    plt.ylabel('Concentration')\n",
    "    plt.title('AIF, VOF, Tissue Concentration, and Convolved AIF')\n",
    "    plt.legend()\n",
    "    plt.grid(True)\n",
    "    plt.show()\n",
    "\n",
    "# Create interactive widgets\n",
    "interact(update_plot,\n",
    "         t1=widgets.FloatSlider(min=0, max=10, step=0.1, value=4, description='t1'),\n",
    "         k1=widgets.FloatSlider(min=0, max=10, step=0.1, value=1, description='k1'),\n",
    "         sigma1=widgets.FloatSlider(min=0.1, max=10, step=0.1, value=2, description='sigma1'),\n",
    "         Q=widgets.FloatSlider(min=1, max=50, step=1, value=20, description='Q (cm^3/s/100g)'),\n",
    "         V=widgets.FloatSlider(min=50, max=150, step=1, value=96.15, description='V (cm^3/100g)'),\n",
    "         HLV=widgets.FloatSlider(min=0.1, max=1, step=0.01, value=0.45, description='HLV'),\n",
    "         HSV=widgets.FloatSlider(min=0.1, max=1, step=0.01, value=0.35, description='HSV'))"
   ],
   "id": "c541c03264c6f832",
   "outputs": [
    {
     "name": "stderr",
     "output_type": "stream",
     "text": [
      "/var/folders/px/b3fg564n72s8jrpcc0p_6fmc0000gn/T/ipykernel_59084/3513244524.py:50: IntegrationWarning: The occurrence of roundoff error is detected, which prevents \n",
      "  the requested tolerance from being achieved.  The error may be \n",
      "  underestimated.\n",
      "  integral_value, _ = quad(integrand, 0, t)\n",
      "/var/folders/px/b3fg564n72s8jrpcc0p_6fmc0000gn/T/ipykernel_59084/3513244524.py:50: IntegrationWarning: The maximum number of subdivisions (50) has been achieved.\n",
      "  If increasing the limit yields no improvement it is advised to analyze \n",
      "  the integrand in order to determine the difficulties.  If the position of a \n",
      "  local difficulty can be determined (singularity, discontinuity) one will \n",
      "  probably gain from splitting up the interval and calling the integrator \n",
      "  on the subranges.  Perhaps a special-purpose integrator should be used.\n",
      "  integral_value, _ = quad(integrand, 0, t)\n"
     ]
    },
    {
     "data": {
      "text/plain": [
       "interactive(children=(FloatSlider(value=4.0, description='t1', max=10.0), FloatSlider(value=1.0, description='…"
      ],
      "application/vnd.jupyter.widget-view+json": {
       "version_major": 2,
       "version_minor": 0,
       "model_id": "c9a16aa6fc2d46b99e9b9c72dc4961b5"
      }
     },
     "metadata": {},
     "output_type": "display_data"
    },
    {
     "data": {
      "text/plain": [
       "<function __main__.update_plot(t1, k1, sigma1, Q, V, HLV, HSV)>"
      ]
     },
     "execution_count": 4,
     "metadata": {},
     "output_type": "execute_result"
    }
   ],
   "execution_count": 4
  },
  {
   "metadata": {
    "ExecuteTime": {
     "end_time": "2024-06-03T14:33:44.626219Z",
     "start_time": "2024-06-03T14:33:43.999876Z"
    }
   },
   "cell_type": "code",
   "source": [
    "import numpy as np\n",
    "import matplotlib.pyplot as plt\n",
    "from scipy.special import gamma\n",
    "from scipy.integrate import quad\n",
    "import ipywidgets as widgets\n",
    "from ipywidgets import interact\n",
    "from scipy.integrate import trapezoid\n",
    "\n",
    "# Define square wave function\n",
    "def square_wave(t, t0, A, width):\n",
    "    return A if t0 - width/2 <= t <= t0 + width/2 else 0\n",
    "\n",
    "# Define Ca and Cv as square wave functions\n",
    "def Ca(t):\n",
    "    return square_wave(t, 30, 5000, 8)  # Example parameters\n",
    "\n",
    "def Cv(t):\n",
    "    return square_wave(t, 36, 8000, 5.4)  # Example parameters\n",
    "\n",
    "# Precompute κ using quad\n",
    "time_grid_fine = np.linspace(0, 72, 10)\n",
    "integral_Ca, _ = quad(Ca, 0, 72)\n",
    "integral_Cv, _ = quad(Cv, 0, 72)\n",
    "kappa = integral_Ca / integral_Cv\n",
    "\n",
    "# Define gamma distribution as the residue function R(t)\n",
    "def gamma_dist(t, t1, k, theta):\n",
    "    if t >= t1:\n",
    "        return (1 / (gamma(k) * theta**k)) * (t - t1)**(k - 1) * np.exp(-(t - t1) / theta)\n",
    "    else:\n",
    "        return 0\n",
    "\n",
    "# Precompute the time grid\n",
    "time_grid = np.arange(0, 73, 1)\n",
    "\n",
    "# Memoize CinValues to avoid recomputation\n",
    "def Cin(t, t1, k, theta, HLV, HSV):\n",
    "    def integrand(tau):\n",
    "        return Ca(tau) * gamma_dist(t - tau, t1, k, theta)\n",
    "    integral_value, _ = quad(integrand, 0, t)\n",
    "    return (1 / kappa) * ((1 - HLV) / (1 - HSV)) * integral_value\n",
    "\n",
    "CinValuesCache = {t: Cin(t, 4, 1, 2, 0.45, 0.35) for t in time_grid}\n",
    "CinInterp = np.interp(time_grid, list(CinValuesCache.keys()), list(CinValuesCache.values()))\n",
    "\n",
    "# Memoize CtValues to avoid recomputation\n",
    "def CtValue(t, CinInterp, Q, V):\n",
    "    def integrand(k1):\n",
    "        return (np.exp((Q * k1) / V) * Q * np.interp(k1, time_grid, CinInterp)) / V\n",
    "    integral_value, _ = quad(integrand, 0, t)\n",
    "    return np.exp(-(Q * t) / V) * integral_value\n",
    "\n",
    "CtValuesCache = {t: CtValue(t, CinInterp, 20, 96.15) for t in time_grid}\n",
    "CtInterp = np.interp(time_grid, list(CtValuesCache.keys()), list(CtValuesCache.values()))\n",
    "\n",
    "# Function to update and plot\n",
    "def update_plot(t1, k1, sigma1, Q, V, HLV, HSV):\n",
    "    def R(t):\n",
    "        return gamma_dist(t, t1, k1, sigma1)\n",
    "    \n",
    "    # CinValues = [(1 / kappa) * ((1 - HLV) / (1 - HSV)) * quad(lambda tau: Ca(tau) * R(t - tau), 0, t)[0] for t in time_grid]\n",
    "    CinValues = [quad(lambda tau: Ca(tau) * R(t - tau), 0, t)[0] for t in time_grid]\n",
    "    CinInterp = np.interp(time_grid, time_grid, CinValues)\n",
    "    CtValues = [np.exp(-(Q * t) / V) * quad(lambda k1: (np.exp((Q * k1) / V) * Q * np.interp(k1, time_grid, CinInterp)) / V, 0, t)[0] for t in time_grid]\n",
    "    CtInterp = np.interp(time_grid, time_grid, CtValues)\n",
    "    \n",
    "    plt.figure(figsize=(12, 8))\n",
    "    plt.plot(time_grid, [Ca(t) for t in time_grid], label='AIF (Ca)', color='red', linewidth=2)\n",
    "    plt.plot(time_grid, [Cv(t) for t in time_grid], label='VOF (Cv)', color='blue', linewidth=2)\n",
    "    plt.plot(time_grid, CtInterp, label='Tissue (Ct)', color='green', linewidth=2)\n",
    "    plt.plot(time_grid, CinInterp, label='Cin', color='pink', linewidth=2, linestyle='--')\n",
    "    plt.xlabel('Time (s)')\n",
    "    plt.ylabel('Concentration')\n",
    "    plt.title('AIF, VOF, Tissue Concentration, and Convolved AIF')\n",
    "    plt.legend()\n",
    "    plt.grid(True)\n",
    "    plt.show()\n",
    "\n",
    "# Create interactive widgets\n",
    "interact(update_plot,\n",
    "         t1=widgets.FloatSlider(min=0, max=10, step=0.1, value=4, description='t1'),\n",
    "         k1=widgets.FloatSlider(min=0, max=10, step=0.1, value=1, description='k1'),\n",
    "         sigma1=widgets.FloatSlider(min=0.1, max=10, step=0.1, value=2, description='sigma1'),\n",
    "         Q=widgets.FloatSlider(min=1, max=50, step=1, value=20, description='Q (cm^3/s/100g)'),\n",
    "         V=widgets.FloatSlider(min=50, max=150, step=1, value=96.15, description='V (cm^3/100g)'),\n",
    "         HLV=widgets.FloatSlider(min=0.1, max=1, step=0.01, value=0.45, description='HLV'),\n",
    "         HSV=widgets.FloatSlider(min=0.1, max=1, step=0.01, value=0.35, description='HSV'))"
   ],
   "id": "f7216edd92addff",
   "outputs": [
    {
     "name": "stderr",
     "output_type": "stream",
     "text": [
      "/var/folders/px/b3fg564n72s8jrpcc0p_6fmc0000gn/T/ipykernel_59084/1697500632.py:40: IntegrationWarning: The maximum number of subdivisions (50) has been achieved.\n",
      "  If increasing the limit yields no improvement it is advised to analyze \n",
      "  the integrand in order to determine the difficulties.  If the position of a \n",
      "  local difficulty can be determined (singularity, discontinuity) one will \n",
      "  probably gain from splitting up the interval and calling the integrator \n",
      "  on the subranges.  Perhaps a special-purpose integrator should be used.\n",
      "  integral_value, _ = quad(integrand, 0, t)\n",
      "/var/folders/px/b3fg564n72s8jrpcc0p_6fmc0000gn/T/ipykernel_59084/1697500632.py:50: IntegrationWarning: The occurrence of roundoff error is detected, which prevents \n",
      "  the requested tolerance from being achieved.  The error may be \n",
      "  underestimated.\n",
      "  integral_value, _ = quad(integrand, 0, t)\n",
      "/var/folders/px/b3fg564n72s8jrpcc0p_6fmc0000gn/T/ipykernel_59084/1697500632.py:50: IntegrationWarning: The maximum number of subdivisions (50) has been achieved.\n",
      "  If increasing the limit yields no improvement it is advised to analyze \n",
      "  the integrand in order to determine the difficulties.  If the position of a \n",
      "  local difficulty can be determined (singularity, discontinuity) one will \n",
      "  probably gain from splitting up the interval and calling the integrator \n",
      "  on the subranges.  Perhaps a special-purpose integrator should be used.\n",
      "  integral_value, _ = quad(integrand, 0, t)\n"
     ]
    },
    {
     "data": {
      "text/plain": [
       "interactive(children=(FloatSlider(value=4.0, description='t1', max=10.0), FloatSlider(value=1.0, description='…"
      ],
      "application/vnd.jupyter.widget-view+json": {
       "version_major": 2,
       "version_minor": 0,
       "model_id": "d3f7e9d655a044788cf5e695d2bd0c86"
      }
     },
     "metadata": {},
     "output_type": "display_data"
    },
    {
     "data": {
      "text/plain": [
       "<function __main__.update_plot(t1, k1, sigma1, Q, V, HLV, HSV)>"
      ]
     },
     "execution_count": 5,
     "metadata": {},
     "output_type": "execute_result"
    }
   ],
   "execution_count": 5
  },
  {
   "metadata": {
    "ExecuteTime": {
     "end_time": "2024-06-03T14:33:44.628219Z",
     "start_time": "2024-06-03T14:33:44.626877Z"
    }
   },
   "cell_type": "code",
   "source": "",
   "id": "1f0e7b243c2586e0",
   "outputs": [],
   "execution_count": 5
  }
 ],
 "metadata": {
  "kernelspec": {
   "display_name": "Python 3",
   "language": "python",
   "name": "python3"
  },
  "language_info": {
   "codemirror_mode": {
    "name": "ipython",
    "version": 2
   },
   "file_extension": ".py",
   "mimetype": "text/x-python",
   "name": "python",
   "nbconvert_exporter": "python",
   "pygments_lexer": "ipython2",
   "version": "2.7.6"
  }
 },
 "nbformat": 4,
 "nbformat_minor": 5
}
