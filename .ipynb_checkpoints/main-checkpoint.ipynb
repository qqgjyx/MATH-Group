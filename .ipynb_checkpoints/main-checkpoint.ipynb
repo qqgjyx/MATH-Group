{
 "cells": [
  {
   "cell_type": "code",
   "execution_count": 25,
   "id": "initial_id",
   "metadata": {
    "collapsed": true,
    "ExecuteTime": {
     "end_time": "2024-02-23T08:59:13.875308Z",
     "start_time": "2024-02-23T08:59:13.873353Z"
    }
   },
   "outputs": [],
   "source": [
    "import os\n",
    "import pydicom\n",
    "from matplotlib import pyplot as plt\n",
    "import numpy as np\n",
    "from skimage.filters import gaussian\n",
    "from skimage.exposure import equalize_adapthist\n",
    "from scipy.ndimage import rotate\n",
    "from ipywidgets import interact, IntSlider\n",
    "import ipywidgets as widgets\n",
    "from IPython.display import display"
   ]
  },
  {
   "cell_type": "code",
   "outputs": [],
   "source": [
    "dcm_path = '/Users/juntangwang/Desktop/SRS00013/IMG00001.DCM'\n",
    "folder_path = '/Users/juntangwang/Desktop/SRS00013/'  # Update this to the path of your DICOM folder"
   ],
   "metadata": {
    "collapsed": false,
    "ExecuteTime": {
     "end_time": "2024-02-23T08:59:17.883805Z",
     "start_time": "2024-02-23T08:59:17.880217Z"
    }
   },
   "id": "b977ea7950074b49",
   "execution_count": 26
  },
  {
   "cell_type": "code",
   "outputs": [],
   "source": [],
   "metadata": {
    "collapsed": false
   },
   "id": "78d27066e7c59274"
  }
 ],
 "metadata": {
  "kernelspec": {
   "display_name": "Python 3",
   "language": "python",
   "name": "python3"
  },
  "language_info": {
   "codemirror_mode": {
    "name": "ipython",
    "version": 2
   },
   "file_extension": ".py",
   "mimetype": "text/x-python",
   "name": "python",
   "nbconvert_exporter": "python",
   "pygments_lexer": "ipython2",
   "version": "2.7.6"
  }
 },
 "nbformat": 4,
 "nbformat_minor": 5
}
